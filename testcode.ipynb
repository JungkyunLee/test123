{
  "nbformat": 4,
  "nbformat_minor": 0,
  "metadata": {
    "colab": {
      "provenance": [],
      "authorship_tag": "ABX9TyMWULvb50utWnY2MsA4Fy2R",
      "include_colab_link": true
    },
    "kernelspec": {
      "name": "python3",
      "display_name": "Python 3"
    },
    "language_info": {
      "name": "python"
    }
  },
  "cells": [
    {
      "cell_type": "markdown",
      "metadata": {
        "id": "view-in-github",
        "colab_type": "text"
      },
      "source": [
        "<a href=\"https://colab.research.google.com/github/JungkyunLee/test123/blob/main/testcode.ipynb\" target=\"_parent\"><img src=\"https://colab.research.google.com/assets/colab-badge.svg\" alt=\"Open In Colab\"/></a>"
      ]
    },
    {
      "cell_type": "code",
      "execution_count": null,
      "metadata": {
        "id": "Z1irJhei7I_c"
      },
      "outputs": [],
      "source": []
    },
    {
      "cell_type": "markdown",
      "source": [
        "#설명\n",
        "\n",
        "자잘한 설명들\n",
        "* 하나\n",
        "* 둘\n",
        "* 셋\n",
        "\n",
        "$$\\displaystyle\\sum_{i=1}^{10} t_i$$\n",
        "$$\\cos (2\\theta) = \\cos^2 \\theta - \\sin^2 \\theta$$\n",
        "$$\\arccos (2\\phi) = \\cos^2 \\delta - \\sin^2 \\omega$$\n"
      ],
      "metadata": {
        "id": "yaqoyrWl7LBr"
      }
    }
  ]
}